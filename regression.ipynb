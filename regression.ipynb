{
 "cells": [
  {
   "cell_type": "code",
   "execution_count": 113,
   "metadata": {},
   "outputs": [],
   "source": [
    "import pandas as pd\n",
    "import numpy as np\n",
    "import matplotlib.pyplot as plt\n",
    "from sklearn.linear_model import LinearRegression\n",
    "from sklearn.model_selection import train_test_split"
   ]
  },
  {
   "cell_type": "code",
   "execution_count": 114,
   "metadata": {},
   "outputs": [
    {
     "data": {
      "text/html": [
       "<div>\n",
       "<style scoped>\n",
       "    .dataframe tbody tr th:only-of-type {\n",
       "        vertical-align: middle;\n",
       "    }\n",
       "\n",
       "    .dataframe tbody tr th {\n",
       "        vertical-align: top;\n",
       "    }\n",
       "\n",
       "    .dataframe thead th {\n",
       "        text-align: right;\n",
       "    }\n",
       "</style>\n",
       "<table border=\"1\" class=\"dataframe\">\n",
       "  <thead>\n",
       "    <tr style=\"text-align: right;\">\n",
       "      <th></th>\n",
       "      <th>Species</th>\n",
       "      <th>Weight</th>\n",
       "      <th>Length1</th>\n",
       "      <th>Length2</th>\n",
       "      <th>Length3</th>\n",
       "      <th>Height</th>\n",
       "      <th>Width</th>\n",
       "    </tr>\n",
       "  </thead>\n",
       "  <tbody>\n",
       "    <tr>\n",
       "      <th>0</th>\n",
       "      <td>Bream</td>\n",
       "      <td>242.0</td>\n",
       "      <td>23.2</td>\n",
       "      <td>25.4</td>\n",
       "      <td>30.0</td>\n",
       "      <td>11.5200</td>\n",
       "      <td>4.0200</td>\n",
       "    </tr>\n",
       "    <tr>\n",
       "      <th>1</th>\n",
       "      <td>Bream</td>\n",
       "      <td>290.0</td>\n",
       "      <td>24.0</td>\n",
       "      <td>26.3</td>\n",
       "      <td>31.2</td>\n",
       "      <td>12.4800</td>\n",
       "      <td>4.3056</td>\n",
       "    </tr>\n",
       "    <tr>\n",
       "      <th>2</th>\n",
       "      <td>Bream</td>\n",
       "      <td>340.0</td>\n",
       "      <td>23.9</td>\n",
       "      <td>26.5</td>\n",
       "      <td>31.1</td>\n",
       "      <td>12.3778</td>\n",
       "      <td>4.6961</td>\n",
       "    </tr>\n",
       "    <tr>\n",
       "      <th>3</th>\n",
       "      <td>Bream</td>\n",
       "      <td>363.0</td>\n",
       "      <td>26.3</td>\n",
       "      <td>29.0</td>\n",
       "      <td>33.5</td>\n",
       "      <td>12.7300</td>\n",
       "      <td>4.4555</td>\n",
       "    </tr>\n",
       "    <tr>\n",
       "      <th>4</th>\n",
       "      <td>Bream</td>\n",
       "      <td>430.0</td>\n",
       "      <td>26.5</td>\n",
       "      <td>29.0</td>\n",
       "      <td>34.0</td>\n",
       "      <td>12.4440</td>\n",
       "      <td>5.1340</td>\n",
       "    </tr>\n",
       "    <tr>\n",
       "      <th>...</th>\n",
       "      <td>...</td>\n",
       "      <td>...</td>\n",
       "      <td>...</td>\n",
       "      <td>...</td>\n",
       "      <td>...</td>\n",
       "      <td>...</td>\n",
       "      <td>...</td>\n",
       "    </tr>\n",
       "    <tr>\n",
       "      <th>154</th>\n",
       "      <td>Smelt</td>\n",
       "      <td>12.2</td>\n",
       "      <td>11.5</td>\n",
       "      <td>12.2</td>\n",
       "      <td>13.4</td>\n",
       "      <td>2.0904</td>\n",
       "      <td>1.3936</td>\n",
       "    </tr>\n",
       "    <tr>\n",
       "      <th>155</th>\n",
       "      <td>Smelt</td>\n",
       "      <td>13.4</td>\n",
       "      <td>11.7</td>\n",
       "      <td>12.4</td>\n",
       "      <td>13.5</td>\n",
       "      <td>2.4300</td>\n",
       "      <td>1.2690</td>\n",
       "    </tr>\n",
       "    <tr>\n",
       "      <th>156</th>\n",
       "      <td>Smelt</td>\n",
       "      <td>12.2</td>\n",
       "      <td>12.1</td>\n",
       "      <td>13.0</td>\n",
       "      <td>13.8</td>\n",
       "      <td>2.2770</td>\n",
       "      <td>1.2558</td>\n",
       "    </tr>\n",
       "    <tr>\n",
       "      <th>157</th>\n",
       "      <td>Smelt</td>\n",
       "      <td>19.7</td>\n",
       "      <td>13.2</td>\n",
       "      <td>14.3</td>\n",
       "      <td>15.2</td>\n",
       "      <td>2.8728</td>\n",
       "      <td>2.0672</td>\n",
       "    </tr>\n",
       "    <tr>\n",
       "      <th>158</th>\n",
       "      <td>Smelt</td>\n",
       "      <td>19.9</td>\n",
       "      <td>13.8</td>\n",
       "      <td>15.0</td>\n",
       "      <td>16.2</td>\n",
       "      <td>2.9322</td>\n",
       "      <td>1.8792</td>\n",
       "    </tr>\n",
       "  </tbody>\n",
       "</table>\n",
       "<p>159 rows × 7 columns</p>\n",
       "</div>"
      ],
      "text/plain": [
       "    Species  Weight  Length1  Length2  Length3   Height   Width\n",
       "0     Bream   242.0     23.2     25.4     30.0  11.5200  4.0200\n",
       "1     Bream   290.0     24.0     26.3     31.2  12.4800  4.3056\n",
       "2     Bream   340.0     23.9     26.5     31.1  12.3778  4.6961\n",
       "3     Bream   363.0     26.3     29.0     33.5  12.7300  4.4555\n",
       "4     Bream   430.0     26.5     29.0     34.0  12.4440  5.1340\n",
       "..      ...     ...      ...      ...      ...      ...     ...\n",
       "154   Smelt    12.2     11.5     12.2     13.4   2.0904  1.3936\n",
       "155   Smelt    13.4     11.7     12.4     13.5   2.4300  1.2690\n",
       "156   Smelt    12.2     12.1     13.0     13.8   2.2770  1.2558\n",
       "157   Smelt    19.7     13.2     14.3     15.2   2.8728  2.0672\n",
       "158   Smelt    19.9     13.8     15.0     16.2   2.9322  1.8792\n",
       "\n",
       "[159 rows x 7 columns]"
      ]
     },
     "execution_count": 114,
     "metadata": {},
     "output_type": "execute_result"
    }
   ],
   "source": [
    "fish=pd.read_csv('Fish.csv')\n",
    "fish"
   ]
  },
  {
   "cell_type": "code",
   "execution_count": 115,
   "metadata": {},
   "outputs": [
    {
     "data": {
      "text/html": [
       "<div>\n",
       "<style scoped>\n",
       "    .dataframe tbody tr th:only-of-type {\n",
       "        vertical-align: middle;\n",
       "    }\n",
       "\n",
       "    .dataframe tbody tr th {\n",
       "        vertical-align: top;\n",
       "    }\n",
       "\n",
       "    .dataframe thead th {\n",
       "        text-align: right;\n",
       "    }\n",
       "</style>\n",
       "<table border=\"1\" class=\"dataframe\">\n",
       "  <thead>\n",
       "    <tr style=\"text-align: right;\">\n",
       "      <th></th>\n",
       "      <th>Species</th>\n",
       "      <th>Weight</th>\n",
       "      <th>Length1</th>\n",
       "      <th>Length2</th>\n",
       "      <th>Length3</th>\n",
       "      <th>Height</th>\n",
       "      <th>Width</th>\n",
       "    </tr>\n",
       "  </thead>\n",
       "  <tbody>\n",
       "    <tr>\n",
       "      <th>0</th>\n",
       "      <td>Bream</td>\n",
       "      <td>242.0</td>\n",
       "      <td>23.2</td>\n",
       "      <td>25.4</td>\n",
       "      <td>30.0</td>\n",
       "      <td>11.5200</td>\n",
       "      <td>4.0200</td>\n",
       "    </tr>\n",
       "    <tr>\n",
       "      <th>1</th>\n",
       "      <td>Bream</td>\n",
       "      <td>290.0</td>\n",
       "      <td>24.0</td>\n",
       "      <td>26.3</td>\n",
       "      <td>31.2</td>\n",
       "      <td>12.4800</td>\n",
       "      <td>4.3056</td>\n",
       "    </tr>\n",
       "    <tr>\n",
       "      <th>2</th>\n",
       "      <td>Bream</td>\n",
       "      <td>340.0</td>\n",
       "      <td>23.9</td>\n",
       "      <td>26.5</td>\n",
       "      <td>31.1</td>\n",
       "      <td>12.3778</td>\n",
       "      <td>4.6961</td>\n",
       "    </tr>\n",
       "    <tr>\n",
       "      <th>3</th>\n",
       "      <td>Bream</td>\n",
       "      <td>363.0</td>\n",
       "      <td>26.3</td>\n",
       "      <td>29.0</td>\n",
       "      <td>33.5</td>\n",
       "      <td>12.7300</td>\n",
       "      <td>4.4555</td>\n",
       "    </tr>\n",
       "    <tr>\n",
       "      <th>4</th>\n",
       "      <td>Bream</td>\n",
       "      <td>430.0</td>\n",
       "      <td>26.5</td>\n",
       "      <td>29.0</td>\n",
       "      <td>34.0</td>\n",
       "      <td>12.4440</td>\n",
       "      <td>5.1340</td>\n",
       "    </tr>\n",
       "  </tbody>\n",
       "</table>\n",
       "</div>"
      ],
      "text/plain": [
       "  Species  Weight  Length1  Length2  Length3   Height   Width\n",
       "0   Bream   242.0     23.2     25.4     30.0  11.5200  4.0200\n",
       "1   Bream   290.0     24.0     26.3     31.2  12.4800  4.3056\n",
       "2   Bream   340.0     23.9     26.5     31.1  12.3778  4.6961\n",
       "3   Bream   363.0     26.3     29.0     33.5  12.7300  4.4555\n",
       "4   Bream   430.0     26.5     29.0     34.0  12.4440  5.1340"
      ]
     },
     "execution_count": 115,
     "metadata": {},
     "output_type": "execute_result"
    }
   ],
   "source": [
    "fish.head()"
   ]
  },
  {
   "cell_type": "markdown",
   "metadata": {},
   "source": [
    "## graph "
   ]
  },
  {
   "cell_type": "code",
   "execution_count": 116,
   "metadata": {},
   "outputs": [
    {
     "data": {
      "text/plain": [
       "Text(0.5, 1.0, 'Fish data')"
      ]
     },
     "execution_count": 116,
     "metadata": {},
     "output_type": "execute_result"
    },
    {
     "data": {
      "image/png": "[encoded data removed]",
      "text/plain": [
       "<Figure size 432x288 with 1 Axes>"
      ]
     },
     "metadata": {
      "needs_background": "light"
     },
     "output_type": "display_data"
    }
   ],
   "source": [
    "%matplotlib inline\n",
    "plt.scatter(fish['Weight'].values,fish['Height'].values)\n",
    "plt.xlabel('Weight')\n",
    "plt.xlabel('Height')\n",
    "plt.title('Fish data')\n"
   ]
  },
  {
   "cell_type": "markdown",
   "metadata": {},
   "source": [
    "## selecting coresponding fatures\n",
    "Show the description and the info of the data set."
   ]
  },
  {
   "cell_type": "code",
   "execution_count": 117,
   "metadata": {},
   "outputs": [
    {
     "data": {
      "text/plain": [
       "array([ 242. ,  290. ,  340. ,  363. ,  430. ,  450. ,  500. ,  390. ,\n",
       "        450. ,  500. ,  475. ,  500. ,  500. ,  340. ,  600. ,  600. ,\n",
       "        700. ,  700. ,  610. ,  650. ,  575. ,  685. ,  620. ,  680. ,\n",
       "        700. ,  725. ,  720. ,  714. ,  850. , 1000. ,  920. ,  955. ,\n",
       "        925. ,  975. ,  950. ,   40. ,   69. ,   78. ,   87. ,  120. ,\n",
       "          0. ,  110. ,  120. ,  150. ,  145. ,  160. ,  140. ,  160. ,\n",
       "        169. ,  161. ,  200. ,  180. ,  290. ,  272. ,  390. ,  270. ,\n",
       "        270. ,  306. ,  540. ,  800. , 1000. ,   55. ,   60. ,   90. ,\n",
       "        120. ,  150. ,  140. ,  170. ,  145. ,  200. ,  273. ,  300. ,\n",
       "          5.9,   32. ,   40. ,   51.5,   70. ,  100. ,   78. ,   80. ,\n",
       "         85. ,   85. ,  110. ,  115. ,  125. ,  130. ,  120. ,  120. ,\n",
       "        130. ,  135. ,  110. ,  130. ,  150. ,  145. ,  150. ,  170. ,\n",
       "        225. ,  145. ,  188. ,  180. ,  197. ,  218. ,  300. ,  260. ,\n",
       "        265. ,  250. ,  250. ,  300. ,  320. ,  514. ,  556. ,  840. ,\n",
       "        685. ,  700. ,  700. ,  690. ,  900. ,  650. ,  820. ,  850. ,\n",
       "        900. , 1015. ,  820. , 1100. , 1000. , 1100. , 1000. , 1000. ,\n",
       "        200. ,  300. ,  300. ,  300. ,  430. ,  345. ,  456. ,  510. ,\n",
       "        540. ,  500. ,  567. ,  770. ,  950. , 1250. , 1600. , 1550. ,\n",
       "       1650. ,    6.7,    7.5,    7. ,    9.7,    9.8,    8.7,   10. ,\n",
       "          9.9,    9.8,   12.2,   13.4,   12.2,   19.7,   19.9])"
      ]
     },
     "execution_count": 117,
     "metadata": {},
     "output_type": "execute_result"
    }
   ],
   "source": [
    "\n",
    "X = fish['Weight'].values\n",
    "y = fish['Height'].values\n",
    "X"
   ]
  },
  {
   "cell_type": "markdown",
   "metadata": {},
   "source": [
    "## create a column vector"
   ]
  },
  {
   "cell_type": "code",
   "execution_count": 118,
   "metadata": {},
   "outputs": [
    {
     "data": {
      "text/plain": [
       "array([[ 242. ],\n",
       "       [ 290. ],\n",
       "       [ 340. ],\n",
       "       [ 363. ],\n",
       "       [ 430. ],\n",
       "       [ 450. ],\n",
       "       [ 500. ],\n",
       "       [ 390. ],\n",
       "       [ 450. ],\n",
       "       [ 500. ],\n",
       "       [ 475. ],\n",
       "       [ 500. ],\n",
       "       [ 500. ],\n",
       "       [ 340. ],\n",
       "       [ 600. ],\n",
       "       [ 600. ],\n",
       "       [ 700. ],\n",
       "       [ 700. ],\n",
       "       [ 610. ],\n",
       "       [ 650. ],\n",
       "       [ 575. ],\n",
       "       [ 685. ],\n",
       "       [ 620. ],\n",
       "       [ 680. ],\n",
       "       [ 700. ],\n",
       "       [ 725. ],\n",
       "       [ 720. ],\n",
       "       [ 714. ],\n",
       "       [ 850. ],\n",
       "       [1000. ],\n",
       "       [ 920. ],\n",
       "       [ 955. ],\n",
       "       [ 925. ],\n",
       "       [ 975. ],\n",
       "       [ 950. ],\n",
       "       [  40. ],\n",
       "       [  69. ],\n",
       "       [  78. ],\n",
       "       [  87. ],\n",
       "       [ 120. ],\n",
       "       [   0. ],\n",
       "       [ 110. ],\n",
       "       [ 120. ],\n",
       "       [ 150. ],\n",
       "       [ 145. ],\n",
       "       [ 160. ],\n",
       "       [ 140. ],\n",
       "       [ 160. ],\n",
       "       [ 169. ],\n",
       "       [ 161. ],\n",
       "       [ 200. ],\n",
       "       [ 180. ],\n",
       "       [ 290. ],\n",
       "       [ 272. ],\n",
       "       [ 390. ],\n",
       "       [ 270. ],\n",
       "       [ 270. ],\n",
       "       [ 306. ],\n",
       "       [ 540. ],\n",
       "       [ 800. ],\n",
       "       [1000. ],\n",
       "       [  55. ],\n",
       "       [  60. ],\n",
       "       [  90. ],\n",
       "       [ 120. ],\n",
       "       [ 150. ],\n",
       "       [ 140. ],\n",
       "       [ 170. ],\n",
       "       [ 145. ],\n",
       "       [ 200. ],\n",
       "       [ 273. ],\n",
       "       [ 300. ],\n",
       "       [   5.9],\n",
       "       [  32. ],\n",
       "       [  40. ],\n",
       "       [  51.5],\n",
       "       [  70. ],\n",
       "       [ 100. ],\n",
       "       [  78. ],\n",
       "       [  80. ],\n",
       "       [  85. ],\n",
       "       [  85. ],\n",
       "       [ 110. ],\n",
       "       [ 115. ],\n",
       "       [ 125. ],\n",
       "       [ 130. ],\n",
       "       [ 120. ],\n",
       "       [ 120. ],\n",
       "       [ 130. ],\n",
       "       [ 135. ],\n",
       "       [ 110. ],\n",
       "       [ 130. ],\n",
       "       [ 150. ],\n",
       "       [ 145. ],\n",
       "       [ 150. ],\n",
       "       [ 170. ],\n",
       "       [ 225. ],\n",
       "       [ 145. ],\n",
       "       [ 188. ],\n",
       "       [ 180. ],\n",
       "       [ 197. ],\n",
       "       [ 218. ],\n",
       "       [ 300. ],\n",
       "       [ 260. ],\n",
       "       [ 265. ],\n",
       "       [ 250. ],\n",
       "       [ 250. ],\n",
       "       [ 300. ],\n",
       "       [ 320. ],\n",
       "       [ 514. ],\n",
       "       [ 556. ],\n",
       "       [ 840. ],\n",
       "       [ 685. ],\n",
       "       [ 700. ],\n",
       "       [ 700. ],\n",
       "       [ 690. ],\n",
       "       [ 900. ],\n",
       "       [ 650. ],\n",
       "       [ 820. ],\n",
       "       [ 850. ],\n",
       "       [ 900. ],\n",
       "       [1015. ],\n",
       "       [ 820. ],\n",
       "       [1100. ],\n",
       "       [1000. ],\n",
       "       [1100. ],\n",
       "       [1000. ],\n",
       "       [1000. ],\n",
       "       [ 200. ],\n",
       "       [ 300. ],\n",
       "       [ 300. ],\n",
       "       [ 300. ],\n",
       "       [ 430. ],\n",
       "       [ 345. ],\n",
       "       [ 456. ],\n",
       "       [ 510. ],\n",
       "       [ 540. ],\n",
       "       [ 500. ],\n",
       "       [ 567. ],\n",
       "       [ 770. ],\n",
       "       [ 950. ],\n",
       "       [1250. ],\n",
       "       [1600. ],\n",
       "       [1550. ],\n",
       "       [1650. ],\n",
       "       [   6.7],\n",
       "       [   7.5],\n",
       "       [   7. ],\n",
       "       [   9.7],\n",
       "       [   9.8],\n",
       "       [   8.7],\n",
       "       [  10. ],\n",
       "       [   9.9],\n",
       "       [   9.8],\n",
       "       [  12.2],\n",
       "       [  13.4],\n",
       "       [  12.2],\n",
       "       [  19.7],\n",
       "       [  19.9]])"
      ]
     },
     "execution_count": 118,
     "metadata": {},
     "output_type": "execute_result"
    }
   ],
   "source": [
    "X=X.reshape(-1,1)\n",
    "X"
   ]
  },
  {
   "cell_type": "markdown",
   "metadata": {},
   "source": [
    "## Fit your training split to the regression model."
   ]
  },
  {
   "cell_type": "code",
   "execution_count": 119,
   "metadata": {},
   "outputs": [
    {
     "name": "stdout",
     "output_type": "stream",
     "text": [
      "X_train shape (127, 1)\n",
      "y_train shape (127,)\n",
      "X_test shape (32, 1)\n",
      "y_test shape (32,)\n",
      "[ 7.0334 14.3714 12.4888 15.438  12.67   10.835   7.68   12.48    2.43\n",
      "  7.0866 18.084   3.528  16.3618 18.957  11.1366  6.11    6.1677  6.4752\n",
      " 11.7612  7.0516  9.485  18.7542  6.384   2.196   6.55    2.9322 11.9328\n",
      " 15.1285 16.8896  5.2224  5.568   2.2139]\n"
     ]
    }
   ],
   "source": [
    "x_train, x_test, y_train, y_test = train_test_split(X,y,train_size=0.8,test_size=0.2,random_state=100)\n",
    "print(f\"X_train shape {x_train.shape}\")\n",
    "print(f\"y_train shape {y_train.shape}\")\n",
    "print(f\"X_test shape {x_test.shape}\")\n",
    "print(f\"y_test shape {y_test.shape}\")\n",
    "print(y_test)"
   ]
  },
  {
   "cell_type": "code",
   "execution_count": 120,
   "metadata": {},
   "outputs": [
    {
     "data": {
      "image/png": "[encoded data removed]",
      "text/plain": [
       "<Figure size 432x288 with 1 Axes>"
      ]
     },
     "metadata": {
      "needs_background": "light"
     },
     "output_type": "display_data"
    }
   ],
   "source": [
    "%matplotlib inline\n",
    "plt.scatter(x_train,y_train,color='red')\n",
    "plt.xlabel('wieght')\n",
    "plt.ylabel('hieght')\n",
    "plt.title('Training data')\n",
    "plt.show()"
   ]
  },
  {
   "cell_type": "markdown",
   "metadata": {},
   "source": [
    "## Show your regression model’s score."
   ]
  },
  {
   "cell_type": "code",
   "execution_count": 121,
   "metadata": {},
   "outputs": [
    {
     "name": "stdout",
     "output_type": "stream",
     "text": [
      "Train accuracy 47.57 %\n",
      "Test accuracy 60.9 %\n"
     ]
    }
   ],
   "source": [
    "lm = LinearRegression()\n",
    "lm.fit(x_train,y_train)\n",
    "y_predict = lm.predict(x_test)\n",
    "print(f\"Train accuracy {round(lm.score(x_train,y_train)*100,2)} %\")\n",
    "print(f\"Test accuracy {round(lm.score(x_test,y_test)*100,2)} %\")"
   ]
  }
 ],
 "metadata": {
  "interpreter": {
   "hash": "84723a15a095ff992e8284f251d06bce1165605277ad0dc449866b6bac4a3848"
  },
  "kernelspec": {
   "display_name": "Python 3.9.5 64-bit ('.venv': poetry)",
   "name": "python3"
  },
  "language_info": {
   "codemirror_mode": {
    "name": "ipython",
    "version": 3
   },
   "file_extension": ".py",
   "mimetype": "text/x-python",
   "name": "python",
   "nbconvert_exporter": "python",
   "pygments_lexer": "ipython3",
   "version": "3.9.5"
  },
  "orig_nbformat": 4
 },
 "nbformat": 4,
 "nbformat_minor": 2
}
